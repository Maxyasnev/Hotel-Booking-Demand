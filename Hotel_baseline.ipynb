{
 "cells": [
  {
   "cell_type": "code",
   "execution_count": null,
   "id": "47d5e155",
   "metadata": {},
   "outputs": [],
   "source": [
    "import pandas as pd\n",
    "import seaborn as sns\n",
    "import matplotlib.pyplot as plt"
   ]
  },
  {
   "cell_type": "code",
   "execution_count": null,
   "id": "8d20d865",
   "metadata": {},
   "outputs": [],
   "source": [
    "train = pd.read_csv('train_final.csv')\n",
    "test = pd.read_csv('test_final.csv')"
   ]
  },
  {
   "cell_type": "code",
   "execution_count": null,
   "id": "b7790426",
   "metadata": {},
   "outputs": [],
   "source": [
    "train.head()"
   ]
  },
  {
   "cell_type": "code",
   "execution_count": null,
   "id": "fa9eb646",
   "metadata": {},
   "outputs": [],
   "source": [
    "test.head()"
   ]
  },
  {
   "cell_type": "code",
   "execution_count": null,
   "id": "28a4c1ed",
   "metadata": {},
   "outputs": [],
   "source": [
    "print(train.shape, test.shape)"
   ]
  },
  {
   "cell_type": "code",
   "execution_count": null,
   "id": "0b684b42",
   "metadata": {},
   "outputs": [],
   "source": [
    "train.info()"
   ]
  },
  {
   "cell_type": "code",
   "execution_count": null,
   "id": "1988969c",
   "metadata": {},
   "outputs": [],
   "source": [
    "test.info()"
   ]
  },
  {
   "cell_type": "code",
   "execution_count": null,
   "id": "9ee624e3",
   "metadata": {},
   "outputs": [],
   "source": [
    "print(train.isna().sum())"
   ]
  },
  {
   "cell_type": "code",
   "execution_count": null,
   "id": "5b3b06e9",
   "metadata": {},
   "outputs": [],
   "source": [
    "print(test.isna().sum())"
   ]
  },
  {
   "cell_type": "code",
   "execution_count": null,
   "id": "5fd27f29",
   "metadata": {},
   "outputs": [],
   "source": [
    "#в результате исследования данных мы сделали несколько выводов:\n",
    "#-в данных есть разные типы данных\n",
    "#-есть категориальные признаки (нужно будет устранить)\n",
    "#-отсутствую признаки\n",
    "#выяснили, какую колонку требуется восстановить"
   ]
  },
  {
   "cell_type": "code",
   "execution_count": null,
   "id": "f72bc6e0",
   "metadata": {},
   "outputs": [],
   "source": [
    "#выяснили, что решаем задачу логистической регрессии"
   ]
  },
  {
   "cell_type": "code",
   "execution_count": null,
   "id": "8656b31d",
   "metadata": {},
   "outputs": [],
   "source": [
    "#проверим баланс классов\n",
    "train['is_canceled'].value_counts()"
   ]
  },
  {
   "cell_type": "code",
   "execution_count": null,
   "id": "f84b11f4",
   "metadata": {
    "scrolled": false
   },
   "outputs": [],
   "source": [
    "#произведем предобработку данных\n",
    "train.loc[:,train.dtypes == 'object']"
   ]
  },
  {
   "cell_type": "code",
   "execution_count": null,
   "id": "247ee7ca",
   "metadata": {},
   "outputs": [],
   "source": [
    "train = train.drop(columns=['reservation_status_date', 'country', 'reserved_room_type', 'assigned_room_type', 'meal', 'hotel', 'distribution_channel'])\n",
    "test = test.drop(columns=['reservation_status_date', 'country', 'reserved_room_type', 'assigned_room_type', 'meal', 'hotel', 'distribution_channel'])"
   ]
  },
  {
   "cell_type": "code",
   "execution_count": null,
   "id": "7940b653",
   "metadata": {},
   "outputs": [],
   "source": [
    "train.loc[:,train.dtypes == 'object']"
   ]
  },
  {
   "cell_type": "code",
   "execution_count": null,
   "id": "b98f9a00",
   "metadata": {},
   "outputs": [],
   "source": [
    "#закодируем данные\n",
    "from sklearn.preprocessing import LabelEncoder\n",
    "label_encoder = LabelEncoder()\n",
    "label_encoder.fit(train['arrival_date_month'])\n",
    "train['arrival_date_month'] = label_encoder.transform(train['arrival_date_month'])\n",
    "test['arrival_date_month'] = label_encoder.transform(test['arrival_date_month'])"
   ]
  },
  {
   "cell_type": "code",
   "execution_count": null,
   "id": "54f2c327",
   "metadata": {},
   "outputs": [],
   "source": [
    "train.loc[:,train.dtypes == 'object']"
   ]
  },
  {
   "cell_type": "code",
   "execution_count": null,
   "id": "5164f9c5",
   "metadata": {},
   "outputs": [],
   "source": [
    "categ = train.loc[:, train.dtypes == 'object'].columns\n",
    "categ"
   ]
  },
  {
   "cell_type": "code",
   "execution_count": null,
   "id": "22576002",
   "metadata": {},
   "outputs": [],
   "source": [
    "categ = ['market_segment']\n",
    "for i in categ:\n",
    "    label_encoder = LabelEncoder()\n",
    "    label_encoder.fit(train[i])\n",
    "    train[i] = label_encoder.transform(train[i])\n",
    "    test[i] = label_encoder.transform(test[i])"
   ]
  },
  {
   "cell_type": "code",
   "execution_count": null,
   "id": "89c296c1",
   "metadata": {},
   "outputs": [],
   "source": [
    "train.loc[:,train.dtypes == 'object']"
   ]
  },
  {
   "cell_type": "code",
   "execution_count": null,
   "id": "6d1dd313",
   "metadata": {},
   "outputs": [],
   "source": [
    "train.head()"
   ]
  },
  {
   "cell_type": "code",
   "execution_count": null,
   "id": "d0461018",
   "metadata": {},
   "outputs": [],
   "source": [
    "#закодируем данные через дамми-переменные\n",
    "train = pd.get_dummies(train, columns=['deposit_type', 'customer_type',])\n",
    "test = pd.get_dummies(test, columns=['deposit_type', 'customer_type',])"
   ]
  },
  {
   "cell_type": "code",
   "execution_count": null,
   "id": "194da61c",
   "metadata": {},
   "outputs": [],
   "source": [
    "train.head()"
   ]
  },
  {
   "cell_type": "code",
   "execution_count": null,
   "id": "8291d9f7",
   "metadata": {},
   "outputs": [],
   "source": [
    "#обучаем модель\n",
    "x = train.drop(columns = ['is_canceled'])\n",
    "y = train['is_canceled']"
   ]
  },
  {
   "cell_type": "code",
   "execution_count": null,
   "id": "6bc7e2af",
   "metadata": {},
   "outputs": [],
   "source": [
    "from sklearn.linear_model import LogisticRegression\n",
    "model = LogisticRegression()\n",
    "model.fit(x,y)\n",
    "pred = model.predict(x)"
   ]
  },
  {
   "cell_type": "code",
   "execution_count": null,
   "id": "80c7ce1b",
   "metadata": {},
   "outputs": [],
   "source": [
    "from sklearn.metrics import accuracy_score, precision_score, recall_score\n",
    "print(accuracy_score(pred,y))\n",
    "print(precision_score(pred,y))\n",
    "print(recall_score(pred,y))"
   ]
  },
  {
   "cell_type": "code",
   "execution_count": null,
   "id": "b494faaf",
   "metadata": {
    "scrolled": true
   },
   "outputs": [],
   "source": [
    "from sklearn.metrics import plot_confusion_matrix\n",
    "plot_confusion_matrix(model,x,y)\n",
    "plt.show()"
   ]
  },
  {
   "cell_type": "code",
   "execution_count": null,
   "id": "60e46ce8",
   "metadata": {},
   "outputs": [],
   "source": [
    "test_pred = model.predict(test)\n",
    "test_pred = pd.DataFrame(test_pred, columns=['is_canceled'])\n",
    "test_pred = test_pred.reset_index()\n",
    "test_pred.to_csv('solution.csv', index = False)"
   ]
  },
  {
   "cell_type": "code",
   "execution_count": null,
   "id": "dc9a78d5",
   "metadata": {},
   "outputs": [],
   "source": []
  },
  {
   "cell_type": "code",
   "execution_count": null,
   "id": "d1421c0f",
   "metadata": {},
   "outputs": [],
   "source": []
  }
 ],
 "metadata": {
  "kernelspec": {
   "display_name": "Python 3 (ipykernel)",
   "language": "python",
   "name": "python3"
  },
  "language_info": {
   "codemirror_mode": {
    "name": "ipython",
    "version": 3
   },
   "file_extension": ".py",
   "mimetype": "text/x-python",
   "name": "python",
   "nbconvert_exporter": "python",
   "pygments_lexer": "ipython3",
   "version": "3.9.12"
  }
 },
 "nbformat": 4,
 "nbformat_minor": 5
}
