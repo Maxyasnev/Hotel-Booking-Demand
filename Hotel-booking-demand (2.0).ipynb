{
 "cells": [
  {
   "cell_type": "code",
   "execution_count": 71,
   "id": "03308848",
   "metadata": {},
   "outputs": [],
   "source": [
    "import pandas as pd\n",
    "import seaborn as sns\n",
    "import matplotlib.pyplot as plt"
   ]
  },
  {
   "cell_type": "code",
   "execution_count": 72,
   "id": "cdf4b2ca",
   "metadata": {},
   "outputs": [],
   "source": [
    "train = pd.read_csv('train_final.csv')\n",
    "test = pd.read_csv('test_final.csv')"
   ]
  },
  {
   "cell_type": "code",
   "execution_count": 73,
   "id": "a41d8e48",
   "metadata": {},
   "outputs": [
    {
     "name": "stdout",
     "output_type": "stream",
     "text": [
      "(44638, 29) (23525, 28)\n"
     ]
    }
   ],
   "source": [
    "#исследуем данные\n",
    "print(train.shape, test.shape)"
   ]
  },
  {
   "cell_type": "code",
   "execution_count": 74,
   "id": "e465b5f9",
   "metadata": {},
   "outputs": [
    {
     "name": "stdout",
     "output_type": "stream",
     "text": [
      "hotel                             0\n",
      "is_canceled                       0\n",
      "lead_time                         0\n",
      "arrival_date_year                 0\n",
      "arrival_date_month                0\n",
      "arrival_date_week_number          0\n",
      "arrival_date_day_of_month         0\n",
      "stays_in_weekend_nights           0\n",
      "stays_in_week_nights              0\n",
      "adults                            0\n",
      "children                          0\n",
      "babies                            0\n",
      "meal                              0\n",
      "country                           0\n",
      "market_segment                    0\n",
      "distribution_channel              0\n",
      "is_repeated_guest                 0\n",
      "previous_cancellations            0\n",
      "previous_bookings_not_canceled    0\n",
      "reserved_room_type                0\n",
      "assigned_room_type                0\n",
      "booking_changes                   0\n",
      "deposit_type                      0\n",
      "days_in_waiting_list              0\n",
      "customer_type                     0\n",
      "adr                               0\n",
      "required_car_parking_spaces       0\n",
      "total_of_special_requests         0\n",
      "reservation_status_date           0\n",
      "dtype: int64\n",
      "#################\n",
      "hotel                             0\n",
      "lead_time                         0\n",
      "arrival_date_year                 0\n",
      "arrival_date_month                0\n",
      "arrival_date_week_number          0\n",
      "arrival_date_day_of_month         0\n",
      "stays_in_weekend_nights           0\n",
      "stays_in_week_nights              0\n",
      "adults                            0\n",
      "children                          0\n",
      "babies                            0\n",
      "meal                              0\n",
      "country                           0\n",
      "market_segment                    0\n",
      "distribution_channel              0\n",
      "is_repeated_guest                 0\n",
      "previous_cancellations            0\n",
      "previous_bookings_not_canceled    0\n",
      "reserved_room_type                0\n",
      "assigned_room_type                0\n",
      "booking_changes                   0\n",
      "deposit_type                      0\n",
      "days_in_waiting_list              0\n",
      "customer_type                     0\n",
      "adr                               0\n",
      "required_car_parking_spaces       0\n",
      "total_of_special_requests         0\n",
      "reservation_status_date           0\n",
      "dtype: int64\n"
     ]
    }
   ],
   "source": [
    "print(train.isna().sum())\n",
    "print('#################')\n",
    "print(test.isna().sum())"
   ]
  },
  {
   "cell_type": "code",
   "execution_count": 75,
   "id": "7a159b7e",
   "metadata": {},
   "outputs": [
    {
     "data": {
      "text/html": [
       "<div>\n",
       "<style scoped>\n",
       "    .dataframe tbody tr th:only-of-type {\n",
       "        vertical-align: middle;\n",
       "    }\n",
       "\n",
       "    .dataframe tbody tr th {\n",
       "        vertical-align: top;\n",
       "    }\n",
       "\n",
       "    .dataframe thead th {\n",
       "        text-align: right;\n",
       "    }\n",
       "</style>\n",
       "<table border=\"1\" class=\"dataframe\">\n",
       "  <thead>\n",
       "    <tr style=\"text-align: right;\">\n",
       "      <th></th>\n",
       "      <th>hotel</th>\n",
       "      <th>is_canceled</th>\n",
       "      <th>lead_time</th>\n",
       "      <th>arrival_date_year</th>\n",
       "      <th>arrival_date_month</th>\n",
       "      <th>arrival_date_week_number</th>\n",
       "      <th>arrival_date_day_of_month</th>\n",
       "      <th>stays_in_weekend_nights</th>\n",
       "      <th>stays_in_week_nights</th>\n",
       "      <th>adults</th>\n",
       "      <th>...</th>\n",
       "      <th>reserved_room_type</th>\n",
       "      <th>assigned_room_type</th>\n",
       "      <th>booking_changes</th>\n",
       "      <th>deposit_type</th>\n",
       "      <th>days_in_waiting_list</th>\n",
       "      <th>customer_type</th>\n",
       "      <th>adr</th>\n",
       "      <th>required_car_parking_spaces</th>\n",
       "      <th>total_of_special_requests</th>\n",
       "      <th>reservation_status_date</th>\n",
       "    </tr>\n",
       "  </thead>\n",
       "  <tbody>\n",
       "    <tr>\n",
       "      <th>0</th>\n",
       "      <td>Resort Hotel</td>\n",
       "      <td>0</td>\n",
       "      <td>3</td>\n",
       "      <td>2016</td>\n",
       "      <td>February</td>\n",
       "      <td>7</td>\n",
       "      <td>12</td>\n",
       "      <td>0</td>\n",
       "      <td>2</td>\n",
       "      <td>2</td>\n",
       "      <td>...</td>\n",
       "      <td>E</td>\n",
       "      <td>F</td>\n",
       "      <td>0</td>\n",
       "      <td>No Deposit</td>\n",
       "      <td>0</td>\n",
       "      <td>Transient</td>\n",
       "      <td>81.0</td>\n",
       "      <td>1</td>\n",
       "      <td>0</td>\n",
       "      <td>2016-02-14</td>\n",
       "    </tr>\n",
       "    <tr>\n",
       "      <th>1</th>\n",
       "      <td>City Hotel</td>\n",
       "      <td>1</td>\n",
       "      <td>50</td>\n",
       "      <td>2016</td>\n",
       "      <td>November</td>\n",
       "      <td>47</td>\n",
       "      <td>18</td>\n",
       "      <td>1</td>\n",
       "      <td>2</td>\n",
       "      <td>2</td>\n",
       "      <td>...</td>\n",
       "      <td>A</td>\n",
       "      <td>A</td>\n",
       "      <td>0</td>\n",
       "      <td>No Deposit</td>\n",
       "      <td>0</td>\n",
       "      <td>Transient</td>\n",
       "      <td>93.6</td>\n",
       "      <td>0</td>\n",
       "      <td>2</td>\n",
       "      <td>2016-10-09</td>\n",
       "    </tr>\n",
       "    <tr>\n",
       "      <th>2</th>\n",
       "      <td>City Hotel</td>\n",
       "      <td>0</td>\n",
       "      <td>14</td>\n",
       "      <td>2015</td>\n",
       "      <td>September</td>\n",
       "      <td>37</td>\n",
       "      <td>7</td>\n",
       "      <td>1</td>\n",
       "      <td>5</td>\n",
       "      <td>2</td>\n",
       "      <td>...</td>\n",
       "      <td>F</td>\n",
       "      <td>F</td>\n",
       "      <td>0</td>\n",
       "      <td>No Deposit</td>\n",
       "      <td>0</td>\n",
       "      <td>Contract</td>\n",
       "      <td>166.0</td>\n",
       "      <td>0</td>\n",
       "      <td>3</td>\n",
       "      <td>2015-09-13</td>\n",
       "    </tr>\n",
       "    <tr>\n",
       "      <th>3</th>\n",
       "      <td>City Hotel</td>\n",
       "      <td>0</td>\n",
       "      <td>18</td>\n",
       "      <td>2015</td>\n",
       "      <td>December</td>\n",
       "      <td>50</td>\n",
       "      <td>6</td>\n",
       "      <td>2</td>\n",
       "      <td>0</td>\n",
       "      <td>2</td>\n",
       "      <td>...</td>\n",
       "      <td>A</td>\n",
       "      <td>A</td>\n",
       "      <td>0</td>\n",
       "      <td>No Deposit</td>\n",
       "      <td>0</td>\n",
       "      <td>Transient</td>\n",
       "      <td>107.0</td>\n",
       "      <td>0</td>\n",
       "      <td>0</td>\n",
       "      <td>2015-12-08</td>\n",
       "    </tr>\n",
       "    <tr>\n",
       "      <th>4</th>\n",
       "      <td>City Hotel</td>\n",
       "      <td>1</td>\n",
       "      <td>263</td>\n",
       "      <td>2016</td>\n",
       "      <td>September</td>\n",
       "      <td>40</td>\n",
       "      <td>29</td>\n",
       "      <td>2</td>\n",
       "      <td>4</td>\n",
       "      <td>2</td>\n",
       "      <td>...</td>\n",
       "      <td>A</td>\n",
       "      <td>A</td>\n",
       "      <td>0</td>\n",
       "      <td>No Deposit</td>\n",
       "      <td>0</td>\n",
       "      <td>Transient</td>\n",
       "      <td>100.3</td>\n",
       "      <td>0</td>\n",
       "      <td>0</td>\n",
       "      <td>2016-01-18</td>\n",
       "    </tr>\n",
       "  </tbody>\n",
       "</table>\n",
       "<p>5 rows × 29 columns</p>\n",
       "</div>"
      ],
      "text/plain": [
       "          hotel  is_canceled  lead_time  arrival_date_year arrival_date_month  \\\n",
       "0  Resort Hotel            0          3               2016           February   \n",
       "1    City Hotel            1         50               2016           November   \n",
       "2    City Hotel            0         14               2015          September   \n",
       "3    City Hotel            0         18               2015           December   \n",
       "4    City Hotel            1        263               2016          September   \n",
       "\n",
       "   arrival_date_week_number  arrival_date_day_of_month  \\\n",
       "0                         7                         12   \n",
       "1                        47                         18   \n",
       "2                        37                          7   \n",
       "3                        50                          6   \n",
       "4                        40                         29   \n",
       "\n",
       "   stays_in_weekend_nights  stays_in_week_nights  adults  ...  \\\n",
       "0                        0                     2       2  ...   \n",
       "1                        1                     2       2  ...   \n",
       "2                        1                     5       2  ...   \n",
       "3                        2                     0       2  ...   \n",
       "4                        2                     4       2  ...   \n",
       "\n",
       "   reserved_room_type  assigned_room_type booking_changes deposit_type  \\\n",
       "0                   E                   F               0   No Deposit   \n",
       "1                   A                   A               0   No Deposit   \n",
       "2                   F                   F               0   No Deposit   \n",
       "3                   A                   A               0   No Deposit   \n",
       "4                   A                   A               0   No Deposit   \n",
       "\n",
       "  days_in_waiting_list customer_type    adr  required_car_parking_spaces  \\\n",
       "0                    0     Transient   81.0                            1   \n",
       "1                    0     Transient   93.6                            0   \n",
       "2                    0      Contract  166.0                            0   \n",
       "3                    0     Transient  107.0                            0   \n",
       "4                    0     Transient  100.3                            0   \n",
       "\n",
       "   total_of_special_requests reservation_status_date  \n",
       "0                          0              2016-02-14  \n",
       "1                          2              2016-10-09  \n",
       "2                          3              2015-09-13  \n",
       "3                          0              2015-12-08  \n",
       "4                          0              2016-01-18  \n",
       "\n",
       "[5 rows x 29 columns]"
      ]
     },
     "execution_count": 75,
     "metadata": {},
     "output_type": "execute_result"
    }
   ],
   "source": [
    "train.head()"
   ]
  },
  {
   "cell_type": "code",
   "execution_count": 76,
   "id": "36e9a92e",
   "metadata": {},
   "outputs": [
    {
     "data": {
      "text/html": [
       "<div>\n",
       "<style scoped>\n",
       "    .dataframe tbody tr th:only-of-type {\n",
       "        vertical-align: middle;\n",
       "    }\n",
       "\n",
       "    .dataframe tbody tr th {\n",
       "        vertical-align: top;\n",
       "    }\n",
       "\n",
       "    .dataframe thead th {\n",
       "        text-align: right;\n",
       "    }\n",
       "</style>\n",
       "<table border=\"1\" class=\"dataframe\">\n",
       "  <thead>\n",
       "    <tr style=\"text-align: right;\">\n",
       "      <th></th>\n",
       "      <th>hotel</th>\n",
       "      <th>lead_time</th>\n",
       "      <th>arrival_date_year</th>\n",
       "      <th>arrival_date_month</th>\n",
       "      <th>arrival_date_week_number</th>\n",
       "      <th>arrival_date_day_of_month</th>\n",
       "      <th>stays_in_weekend_nights</th>\n",
       "      <th>stays_in_week_nights</th>\n",
       "      <th>adults</th>\n",
       "      <th>children</th>\n",
       "      <th>...</th>\n",
       "      <th>reserved_room_type</th>\n",
       "      <th>assigned_room_type</th>\n",
       "      <th>booking_changes</th>\n",
       "      <th>deposit_type</th>\n",
       "      <th>days_in_waiting_list</th>\n",
       "      <th>customer_type</th>\n",
       "      <th>adr</th>\n",
       "      <th>required_car_parking_spaces</th>\n",
       "      <th>total_of_special_requests</th>\n",
       "      <th>reservation_status_date</th>\n",
       "    </tr>\n",
       "  </thead>\n",
       "  <tbody>\n",
       "    <tr>\n",
       "      <th>0</th>\n",
       "      <td>City Hotel</td>\n",
       "      <td>73</td>\n",
       "      <td>2016</td>\n",
       "      <td>July</td>\n",
       "      <td>28</td>\n",
       "      <td>6</td>\n",
       "      <td>0</td>\n",
       "      <td>2</td>\n",
       "      <td>1</td>\n",
       "      <td>0.0</td>\n",
       "      <td>...</td>\n",
       "      <td>A</td>\n",
       "      <td>A</td>\n",
       "      <td>0</td>\n",
       "      <td>No Deposit</td>\n",
       "      <td>0</td>\n",
       "      <td>Transient</td>\n",
       "      <td>107.10</td>\n",
       "      <td>0</td>\n",
       "      <td>0</td>\n",
       "      <td>2016-06-12</td>\n",
       "    </tr>\n",
       "    <tr>\n",
       "      <th>1</th>\n",
       "      <td>City Hotel</td>\n",
       "      <td>37</td>\n",
       "      <td>2015</td>\n",
       "      <td>October</td>\n",
       "      <td>43</td>\n",
       "      <td>24</td>\n",
       "      <td>2</td>\n",
       "      <td>5</td>\n",
       "      <td>1</td>\n",
       "      <td>1.0</td>\n",
       "      <td>...</td>\n",
       "      <td>A</td>\n",
       "      <td>A</td>\n",
       "      <td>0</td>\n",
       "      <td>No Deposit</td>\n",
       "      <td>0</td>\n",
       "      <td>Transient</td>\n",
       "      <td>87.78</td>\n",
       "      <td>0</td>\n",
       "      <td>0</td>\n",
       "      <td>2015-10-31</td>\n",
       "    </tr>\n",
       "    <tr>\n",
       "      <th>2</th>\n",
       "      <td>City Hotel</td>\n",
       "      <td>190</td>\n",
       "      <td>2017</td>\n",
       "      <td>April</td>\n",
       "      <td>14</td>\n",
       "      <td>6</td>\n",
       "      <td>2</td>\n",
       "      <td>3</td>\n",
       "      <td>2</td>\n",
       "      <td>0.0</td>\n",
       "      <td>...</td>\n",
       "      <td>A</td>\n",
       "      <td>A</td>\n",
       "      <td>0</td>\n",
       "      <td>No Deposit</td>\n",
       "      <td>0</td>\n",
       "      <td>Transient</td>\n",
       "      <td>88.40</td>\n",
       "      <td>0</td>\n",
       "      <td>0</td>\n",
       "      <td>2016-09-29</td>\n",
       "    </tr>\n",
       "    <tr>\n",
       "      <th>3</th>\n",
       "      <td>City Hotel</td>\n",
       "      <td>287</td>\n",
       "      <td>2016</td>\n",
       "      <td>August</td>\n",
       "      <td>35</td>\n",
       "      <td>24</td>\n",
       "      <td>1</td>\n",
       "      <td>4</td>\n",
       "      <td>2</td>\n",
       "      <td>0.0</td>\n",
       "      <td>...</td>\n",
       "      <td>B</td>\n",
       "      <td>B</td>\n",
       "      <td>1</td>\n",
       "      <td>No Deposit</td>\n",
       "      <td>0</td>\n",
       "      <td>Transient</td>\n",
       "      <td>76.71</td>\n",
       "      <td>0</td>\n",
       "      <td>0</td>\n",
       "      <td>2016-08-29</td>\n",
       "    </tr>\n",
       "    <tr>\n",
       "      <th>4</th>\n",
       "      <td>Resort Hotel</td>\n",
       "      <td>386</td>\n",
       "      <td>2016</td>\n",
       "      <td>October</td>\n",
       "      <td>43</td>\n",
       "      <td>20</td>\n",
       "      <td>1</td>\n",
       "      <td>3</td>\n",
       "      <td>2</td>\n",
       "      <td>0.0</td>\n",
       "      <td>...</td>\n",
       "      <td>A</td>\n",
       "      <td>A</td>\n",
       "      <td>0</td>\n",
       "      <td>No Deposit</td>\n",
       "      <td>0</td>\n",
       "      <td>Transient-Party</td>\n",
       "      <td>49.00</td>\n",
       "      <td>0</td>\n",
       "      <td>0</td>\n",
       "      <td>2016-09-14</td>\n",
       "    </tr>\n",
       "  </tbody>\n",
       "</table>\n",
       "<p>5 rows × 28 columns</p>\n",
       "</div>"
      ],
      "text/plain": [
       "          hotel  lead_time  arrival_date_year arrival_date_month  \\\n",
       "0    City Hotel         73               2016               July   \n",
       "1    City Hotel         37               2015            October   \n",
       "2    City Hotel        190               2017              April   \n",
       "3    City Hotel        287               2016             August   \n",
       "4  Resort Hotel        386               2016            October   \n",
       "\n",
       "   arrival_date_week_number  arrival_date_day_of_month  \\\n",
       "0                        28                          6   \n",
       "1                        43                         24   \n",
       "2                        14                          6   \n",
       "3                        35                         24   \n",
       "4                        43                         20   \n",
       "\n",
       "   stays_in_weekend_nights  stays_in_week_nights  adults  children  ...  \\\n",
       "0                        0                     2       1       0.0  ...   \n",
       "1                        2                     5       1       1.0  ...   \n",
       "2                        2                     3       2       0.0  ...   \n",
       "3                        1                     4       2       0.0  ...   \n",
       "4                        1                     3       2       0.0  ...   \n",
       "\n",
       "   reserved_room_type assigned_room_type booking_changes deposit_type  \\\n",
       "0                   A                  A               0   No Deposit   \n",
       "1                   A                  A               0   No Deposit   \n",
       "2                   A                  A               0   No Deposit   \n",
       "3                   B                  B               1   No Deposit   \n",
       "4                   A                  A               0   No Deposit   \n",
       "\n",
       "  days_in_waiting_list    customer_type     adr  required_car_parking_spaces  \\\n",
       "0                    0        Transient  107.10                            0   \n",
       "1                    0        Transient   87.78                            0   \n",
       "2                    0        Transient   88.40                            0   \n",
       "3                    0        Transient   76.71                            0   \n",
       "4                    0  Transient-Party   49.00                            0   \n",
       "\n",
       "  total_of_special_requests reservation_status_date  \n",
       "0                         0              2016-06-12  \n",
       "1                         0              2015-10-31  \n",
       "2                         0              2016-09-29  \n",
       "3                         0              2016-08-29  \n",
       "4                         0              2016-09-14  \n",
       "\n",
       "[5 rows x 28 columns]"
      ]
     },
     "execution_count": 76,
     "metadata": {},
     "output_type": "execute_result"
    }
   ],
   "source": [
    "test.head()"
   ]
  },
  {
   "cell_type": "code",
   "execution_count": 77,
   "id": "623648b0",
   "metadata": {},
   "outputs": [
    {
     "name": "stdout",
     "output_type": "stream",
     "text": [
      "<class 'pandas.core.frame.DataFrame'>\n",
      "RangeIndex: 44638 entries, 0 to 44637\n",
      "Data columns (total 29 columns):\n",
      " #   Column                          Non-Null Count  Dtype  \n",
      "---  ------                          --------------  -----  \n",
      " 0   hotel                           44638 non-null  object \n",
      " 1   is_canceled                     44638 non-null  int64  \n",
      " 2   lead_time                       44638 non-null  int64  \n",
      " 3   arrival_date_year               44638 non-null  int64  \n",
      " 4   arrival_date_month              44638 non-null  object \n",
      " 5   arrival_date_week_number        44638 non-null  int64  \n",
      " 6   arrival_date_day_of_month       44638 non-null  int64  \n",
      " 7   stays_in_weekend_nights         44638 non-null  int64  \n",
      " 8   stays_in_week_nights            44638 non-null  int64  \n",
      " 9   adults                          44638 non-null  int64  \n",
      " 10  children                        44638 non-null  float64\n",
      " 11  babies                          44638 non-null  int64  \n",
      " 12  meal                            44638 non-null  object \n",
      " 13  country                         44638 non-null  object \n",
      " 14  market_segment                  44638 non-null  object \n",
      " 15  distribution_channel            44638 non-null  object \n",
      " 16  is_repeated_guest               44638 non-null  int64  \n",
      " 17  previous_cancellations          44638 non-null  int64  \n",
      " 18  previous_bookings_not_canceled  44638 non-null  int64  \n",
      " 19  reserved_room_type              44638 non-null  object \n",
      " 20  assigned_room_type              44638 non-null  object \n",
      " 21  booking_changes                 44638 non-null  int64  \n",
      " 22  deposit_type                    44638 non-null  object \n",
      " 23  days_in_waiting_list            44638 non-null  int64  \n",
      " 24  customer_type                   44638 non-null  object \n",
      " 25  adr                             44638 non-null  float64\n",
      " 26  required_car_parking_spaces     44638 non-null  int64  \n",
      " 27  total_of_special_requests       44638 non-null  int64  \n",
      " 28  reservation_status_date         44638 non-null  object \n",
      "dtypes: float64(2), int64(16), object(11)\n",
      "memory usage: 9.9+ MB\n"
     ]
    }
   ],
   "source": [
    "train.info()"
   ]
  },
  {
   "cell_type": "code",
   "execution_count": 78,
   "id": "8701c694",
   "metadata": {},
   "outputs": [
    {
     "data": {
      "text/plain": [
       "Index(['hotel', 'arrival_date_month', 'meal', 'country', 'market_segment',\n",
       "       'distribution_channel', 'reserved_room_type', 'assigned_room_type',\n",
       "       'deposit_type', 'customer_type', 'reservation_status_date'],\n",
       "      dtype='object')"
      ]
     },
     "execution_count": 78,
     "metadata": {},
     "output_type": "execute_result"
    }
   ],
   "source": [
    "#произведем предобработку данных\n",
    "category = train.loc[:, train.dtypes == object].columns\n",
    "category"
   ]
  },
  {
   "cell_type": "code",
   "execution_count": 79,
   "id": "430231d8",
   "metadata": {},
   "outputs": [],
   "source": [
    "#удалим столбцы, которые скорее всего не влияют на результат\n",
    "train = train.drop(columns = ['reservation_status_date', 'country'])\n",
    "test = test.drop(columns = ['reservation_status_date', 'country'])"
   ]
  },
  {
   "cell_type": "code",
   "execution_count": 80,
   "id": "9d404a66",
   "metadata": {},
   "outputs": [
    {
     "data": {
      "text/plain": [
       "Index(['hotel', 'arrival_date_month', 'meal', 'market_segment',\n",
       "       'distribution_channel', 'reserved_room_type', 'assigned_room_type',\n",
       "       'deposit_type', 'customer_type'],\n",
       "      dtype='object')"
      ]
     },
     "execution_count": 80,
     "metadata": {},
     "output_type": "execute_result"
    }
   ],
   "source": [
    "category = train.loc[:, train.dtypes == object].columns\n",
    "category"
   ]
  },
  {
   "cell_type": "code",
   "execution_count": 81,
   "id": "7cf6ac47",
   "metadata": {},
   "outputs": [
    {
     "name": "stdout",
     "output_type": "stream",
     "text": [
      "hotel\n",
      "set()\n",
      "arrival_date_month\n",
      "set()\n",
      "meal\n",
      "set()\n",
      "market_segment\n",
      "set()\n",
      "distribution_channel\n",
      "set()\n",
      "reserved_room_type\n",
      "{'P', 'L'}\n",
      "assigned_room_type\n",
      "{'P', 'L'}\n",
      "deposit_type\n",
      "set()\n",
      "customer_type\n",
      "set()\n"
     ]
    }
   ],
   "source": [
    "categ = ['hotel', 'arrival_date_month', 'meal', 'market_segment',\n",
    "       'distribution_channel', 'reserved_room_type', 'assigned_room_type',\n",
    "       'deposit_type', 'customer_type']\n",
    "\n",
    "for i in categ:\n",
    "    print(i)\n",
    "    print(set(test[i].unique()).symmetric_difference(set(train[i].unique())))"
   ]
  },
  {
   "cell_type": "code",
   "execution_count": 82,
   "id": "a9d1ad5a",
   "metadata": {},
   "outputs": [
    {
     "name": "stdout",
     "output_type": "stream",
     "text": [
      "['E' 'A' 'F' 'D' 'C' 'G' 'H' 'B' 'P']\n",
      "['A' 'B' 'D' 'E' 'G' 'F' 'C' 'H' 'L']\n"
     ]
    }
   ],
   "source": [
    "#видно, что у нас раздичаются категориальные данные в двух столбцах тренировочного и тестовго набора данных\n",
    "print(train['reserved_room_type'].unique())\n",
    "print(test['reserved_room_type'].unique())"
   ]
  },
  {
   "cell_type": "code",
   "execution_count": 83,
   "id": "d63d32af",
   "metadata": {},
   "outputs": [
    {
     "name": "stdout",
     "output_type": "stream",
     "text": [
      "['F' 'A' 'G' 'D' 'E' 'C' 'H' 'K' 'B' 'I' 'P']\n",
      "['A' 'B' 'D' 'E' 'C' 'G' 'F' 'H' 'I' 'K' 'L']\n"
     ]
    }
   ],
   "source": [
    "print(train['assigned_room_type'].unique())\n",
    "print(test['assigned_room_type'].unique())"
   ]
  },
  {
   "cell_type": "code",
   "execution_count": 84,
   "id": "3ef6d365",
   "metadata": {},
   "outputs": [
    {
     "data": {
      "text/plain": [
       "A    31897\n",
       "D     7356\n",
       "E     2488\n",
       "F     1082\n",
       "G      784\n",
       "B      433\n",
       "C      355\n",
       "H      241\n",
       "P        2\n",
       "Name: reserved_room_type, dtype: int64"
      ]
     },
     "execution_count": 84,
     "metadata": {},
     "output_type": "execute_result"
    }
   ],
   "source": [
    "train['reserved_room_type'].value_counts()"
   ]
  },
  {
   "cell_type": "code",
   "execution_count": 85,
   "id": "67dda463",
   "metadata": {},
   "outputs": [
    {
     "data": {
      "text/plain": [
       "A    16182\n",
       "D     4098\n",
       "E     1251\n",
       "F      636\n",
       "G      460\n",
       "C      356\n",
       "B      343\n",
       "H      140\n",
       "I       34\n",
       "K       24\n",
       "L        1\n",
       "Name: assigned_room_type, dtype: int64"
      ]
     },
     "execution_count": 85,
     "metadata": {},
     "output_type": "execute_result"
    }
   ],
   "source": [
    "test['assigned_room_type'].value_counts()"
   ]
  },
  {
   "cell_type": "code",
   "execution_count": 86,
   "id": "6a6bbbcc",
   "metadata": {},
   "outputs": [],
   "source": [
    "#один из варинатов решения проблемы, удалить данные столбцы\n",
    "train = train.drop(columns = ['assigned_room_type','reserved_room_type'])\n",
    "test = test.drop(columns = ['assigned_room_type','reserved_room_type'])"
   ]
  },
  {
   "cell_type": "code",
   "execution_count": 87,
   "id": "82868dec",
   "metadata": {},
   "outputs": [
    {
     "data": {
      "text/plain": [
       "Index(['hotel', 'arrival_date_month', 'meal', 'market_segment',\n",
       "       'distribution_channel', 'deposit_type', 'customer_type'],\n",
       "      dtype='object')"
      ]
     },
     "execution_count": 87,
     "metadata": {},
     "output_type": "execute_result"
    }
   ],
   "source": [
    "category = train.loc[:, train.dtypes == object].columns\n",
    "category"
   ]
  },
  {
   "cell_type": "code",
   "execution_count": 88,
   "id": "99d9e003",
   "metadata": {},
   "outputs": [],
   "source": [
    "#произведем кодирование категорильаных данных с помощью LabelEncoder\n",
    "from sklearn.preprocessing import LabelEncoder\n",
    "\n",
    "categ = ['arrival_date_month', 'meal', 'customer_type','distribution_channel']\n",
    "\n",
    "for i in categ:\n",
    "    LE = LabelEncoder()\n",
    "    train[i] = LE.fit_transform(train[i])\n",
    "    test[i] = LE.fit_transform(test[i])"
   ]
  },
  {
   "cell_type": "code",
   "execution_count": 89,
   "id": "4b8f0347",
   "metadata": {},
   "outputs": [
    {
     "data": {
      "text/plain": [
       "Index(['hotel', 'market_segment', 'deposit_type'], dtype='object')"
      ]
     },
     "execution_count": 89,
     "metadata": {},
     "output_type": "execute_result"
    }
   ],
   "source": [
    "category = train.loc[:, train.dtypes == object].columns\n",
    "category"
   ]
  },
  {
   "cell_type": "code",
   "execution_count": 90,
   "id": "2cfc1134",
   "metadata": {},
   "outputs": [
    {
     "data": {
      "text/plain": [
       "Index(['hotel', 'market_segment', 'deposit_type'], dtype='object')"
      ]
     },
     "execution_count": 90,
     "metadata": {},
     "output_type": "execute_result"
    }
   ],
   "source": [
    "category = test.loc[:, train.dtypes == object].columns\n",
    "category"
   ]
  },
  {
   "cell_type": "code",
   "execution_count": 91,
   "id": "23ac0b5a",
   "metadata": {},
   "outputs": [],
   "source": [
    "#произведем кодирование категорильаных данных с помощью Дамми переменных\n",
    "train = pd.get_dummies(train, columns = ['hotel', 'market_segment', 'deposit_type'])\n",
    "test = pd.get_dummies(test, columns = ['hotel', 'market_segment', 'deposit_type'])"
   ]
  },
  {
   "cell_type": "code",
   "execution_count": 92,
   "id": "b7591fbe",
   "metadata": {},
   "outputs": [
    {
     "name": "stdout",
     "output_type": "stream",
     "text": [
      "<class 'pandas.core.frame.DataFrame'>\n",
      "RangeIndex: 44638 entries, 0 to 44637\n",
      "Data columns (total 34 columns):\n",
      " #   Column                          Non-Null Count  Dtype  \n",
      "---  ------                          --------------  -----  \n",
      " 0   is_canceled                     44638 non-null  int64  \n",
      " 1   lead_time                       44638 non-null  int64  \n",
      " 2   arrival_date_year               44638 non-null  int64  \n",
      " 3   arrival_date_month              44638 non-null  int32  \n",
      " 4   arrival_date_week_number        44638 non-null  int64  \n",
      " 5   arrival_date_day_of_month       44638 non-null  int64  \n",
      " 6   stays_in_weekend_nights         44638 non-null  int64  \n",
      " 7   stays_in_week_nights            44638 non-null  int64  \n",
      " 8   adults                          44638 non-null  int64  \n",
      " 9   children                        44638 non-null  float64\n",
      " 10  babies                          44638 non-null  int64  \n",
      " 11  meal                            44638 non-null  int32  \n",
      " 12  distribution_channel            44638 non-null  int32  \n",
      " 13  is_repeated_guest               44638 non-null  int64  \n",
      " 14  previous_cancellations          44638 non-null  int64  \n",
      " 15  previous_bookings_not_canceled  44638 non-null  int64  \n",
      " 16  booking_changes                 44638 non-null  int64  \n",
      " 17  days_in_waiting_list            44638 non-null  int64  \n",
      " 18  customer_type                   44638 non-null  int32  \n",
      " 19  adr                             44638 non-null  float64\n",
      " 20  required_car_parking_spaces     44638 non-null  int64  \n",
      " 21  total_of_special_requests       44638 non-null  int64  \n",
      " 22  hotel_City Hotel                44638 non-null  uint8  \n",
      " 23  hotel_Resort Hotel              44638 non-null  uint8  \n",
      " 24  market_segment_Aviation         44638 non-null  uint8  \n",
      " 25  market_segment_Complementary    44638 non-null  uint8  \n",
      " 26  market_segment_Corporate        44638 non-null  uint8  \n",
      " 27  market_segment_Direct           44638 non-null  uint8  \n",
      " 28  market_segment_Groups           44638 non-null  uint8  \n",
      " 29  market_segment_Offline TA/TO    44638 non-null  uint8  \n",
      " 30  market_segment_Online TA        44638 non-null  uint8  \n",
      " 31  deposit_type_No Deposit         44638 non-null  uint8  \n",
      " 32  deposit_type_Non Refund         44638 non-null  uint8  \n",
      " 33  deposit_type_Refundable         44638 non-null  uint8  \n",
      "dtypes: float64(2), int32(4), int64(16), uint8(12)\n",
      "memory usage: 7.3 MB\n"
     ]
    }
   ],
   "source": [
    "train.info()"
   ]
  },
  {
   "cell_type": "code",
   "execution_count": 93,
   "id": "8a10f64f",
   "metadata": {},
   "outputs": [
    {
     "name": "stdout",
     "output_type": "stream",
     "text": [
      "<class 'pandas.core.frame.DataFrame'>\n",
      "RangeIndex: 44638 entries, 0 to 44637\n",
      "Data columns (total 34 columns):\n",
      " #   Column                          Non-Null Count  Dtype  \n",
      "---  ------                          --------------  -----  \n",
      " 0   is_canceled                     44638 non-null  int64  \n",
      " 1   lead_time                       44638 non-null  int64  \n",
      " 2   arrival_date_year               44638 non-null  int64  \n",
      " 3   arrival_date_month              44638 non-null  int32  \n",
      " 4   arrival_date_week_number        44638 non-null  int64  \n",
      " 5   arrival_date_day_of_month       44638 non-null  int64  \n",
      " 6   stays_in_weekend_nights         44638 non-null  int64  \n",
      " 7   stays_in_week_nights            44638 non-null  int64  \n",
      " 8   adults                          44638 non-null  int64  \n",
      " 9   children                        44638 non-null  float64\n",
      " 10  babies                          44638 non-null  int64  \n",
      " 11  meal                            44638 non-null  int32  \n",
      " 12  distribution_channel            44638 non-null  int32  \n",
      " 13  is_repeated_guest               44638 non-null  int64  \n",
      " 14  previous_cancellations          44638 non-null  int64  \n",
      " 15  previous_bookings_not_canceled  44638 non-null  int64  \n",
      " 16  booking_changes                 44638 non-null  int64  \n",
      " 17  days_in_waiting_list            44638 non-null  int64  \n",
      " 18  customer_type                   44638 non-null  int32  \n",
      " 19  adr                             44638 non-null  float64\n",
      " 20  required_car_parking_spaces     44638 non-null  int64  \n",
      " 21  total_of_special_requests       44638 non-null  int64  \n",
      " 22  hotel_City Hotel                44638 non-null  uint8  \n",
      " 23  hotel_Resort Hotel              44638 non-null  uint8  \n",
      " 24  market_segment_Aviation         44638 non-null  uint8  \n",
      " 25  market_segment_Complementary    44638 non-null  uint8  \n",
      " 26  market_segment_Corporate        44638 non-null  uint8  \n",
      " 27  market_segment_Direct           44638 non-null  uint8  \n",
      " 28  market_segment_Groups           44638 non-null  uint8  \n",
      " 29  market_segment_Offline TA/TO    44638 non-null  uint8  \n",
      " 30  market_segment_Online TA        44638 non-null  uint8  \n",
      " 31  deposit_type_No Deposit         44638 non-null  uint8  \n",
      " 32  deposit_type_Non Refund         44638 non-null  uint8  \n",
      " 33  deposit_type_Refundable         44638 non-null  uint8  \n",
      "dtypes: float64(2), int32(4), int64(16), uint8(12)\n",
      "memory usage: 7.3 MB\n"
     ]
    }
   ],
   "source": [
    "train.info()"
   ]
  },
  {
   "cell_type": "code",
   "execution_count": 94,
   "id": "7e0d04d1",
   "metadata": {},
   "outputs": [
    {
     "name": "stdout",
     "output_type": "stream",
     "text": [
      "(44638, 34) (23525, 33)\n"
     ]
    }
   ],
   "source": [
    "print(train.shape, test.shape)"
   ]
  },
  {
   "cell_type": "code",
   "execution_count": 95,
   "id": "33cca5ff",
   "metadata": {},
   "outputs": [
    {
     "data": {
      "text/plain": [
       "0    31354\n",
       "1    13284\n",
       "Name: is_canceled, dtype: int64"
      ]
     },
     "execution_count": 95,
     "metadata": {},
     "output_type": "execute_result"
    }
   ],
   "source": [
    "#проверим балансировку данных\n",
    "train['is_canceled'].value_counts()"
   ]
  },
  {
   "cell_type": "code",
   "execution_count": 96,
   "id": "32a190b9",
   "metadata": {},
   "outputs": [
    {
     "data": {
      "text/plain": [
       "0    31354\n",
       "1    13284\n",
       "Name: is_canceled, dtype: int64"
      ]
     },
     "execution_count": 96,
     "metadata": {},
     "output_type": "execute_result"
    }
   ],
   "source": [
    "#разделим данные на features и target\n",
    "X = train.drop(columns=['is_canceled'])\n",
    "y = train['is_canceled']\n",
    "\n",
    "y.value_counts()"
   ]
  },
  {
   "cell_type": "code",
   "execution_count": 97,
   "id": "b80ef163",
   "metadata": {},
   "outputs": [
    {
     "name": "stdout",
     "output_type": "stream",
     "text": [
      "Requirement already satisfied: imblearn in c:\\users\\user\\anaconda3\\lib\\site-packages (0.0)\n",
      "Requirement already satisfied: imbalanced-learn in c:\\users\\user\\anaconda3\\lib\\site-packages (from imblearn) (0.10.1)\n",
      "Requirement already satisfied: numpy>=1.17.3 in c:\\users\\user\\anaconda3\\lib\\site-packages (from imbalanced-learn->imblearn) (1.21.5)\n",
      "Requirement already satisfied: threadpoolctl>=2.0.0 in c:\\users\\user\\anaconda3\\lib\\site-packages (from imbalanced-learn->imblearn) (2.2.0)\n",
      "Requirement already satisfied: scipy>=1.3.2 in c:\\users\\user\\anaconda3\\lib\\site-packages (from imbalanced-learn->imblearn) (1.7.3)\n",
      "Requirement already satisfied: scikit-learn>=1.0.2 in c:\\users\\user\\anaconda3\\lib\\site-packages (from imbalanced-learn->imblearn) (1.0.2)\n",
      "Requirement already satisfied: joblib>=1.1.1 in c:\\users\\user\\anaconda3\\lib\\site-packages (from imbalanced-learn->imblearn) (1.2.0)\n"
     ]
    }
   ],
   "source": [
    "!pip install imblearn"
   ]
  },
  {
   "cell_type": "code",
   "execution_count": 98,
   "id": "0bc2f40a",
   "metadata": {},
   "outputs": [
    {
     "name": "stdout",
     "output_type": "stream",
     "text": [
      "(62708, 33) (62708, 1)\n"
     ]
    },
    {
     "data": {
      "text/plain": [
       "is_canceled\n",
       "0              31354\n",
       "1              31354\n",
       "dtype: int64"
      ]
     },
     "execution_count": 98,
     "metadata": {},
     "output_type": "execute_result"
    }
   ],
   "source": [
    "#данные не сбалансированны, это необходимо исправить. Используем алгоритм SMOTE и произведем undersampling\n",
    "\n",
    "from imblearn.over_sampling import SMOTE\n",
    "\n",
    "os = SMOTE(random_state = 123, k_neighbors = 25)\n",
    "\n",
    "column = X.columns\n",
    "\n",
    "X_os, y_os = os.fit_resample(X, y)\n",
    "X_os = pd.DataFrame(data = X_os, columns = column)\n",
    "y_os = pd.DataFrame(data = y_os, columns = ['is_canceled'])\n",
    "\n",
    "print(X_os.shape, y_os.shape)\n",
    "y_os.value_counts()"
   ]
  },
  {
   "cell_type": "code",
   "execution_count": 99,
   "id": "500a3e7f",
   "metadata": {},
   "outputs": [
    {
     "data": {
      "text/html": [
       "<div>\n",
       "<style scoped>\n",
       "    .dataframe tbody tr th:only-of-type {\n",
       "        vertical-align: middle;\n",
       "    }\n",
       "\n",
       "    .dataframe tbody tr th {\n",
       "        vertical-align: top;\n",
       "    }\n",
       "\n",
       "    .dataframe thead th {\n",
       "        text-align: right;\n",
       "    }\n",
       "</style>\n",
       "<table border=\"1\" class=\"dataframe\">\n",
       "  <thead>\n",
       "    <tr style=\"text-align: right;\">\n",
       "      <th></th>\n",
       "      <th>lead_time</th>\n",
       "      <th>arrival_date_year</th>\n",
       "      <th>arrival_date_month</th>\n",
       "      <th>arrival_date_week_number</th>\n",
       "      <th>arrival_date_day_of_month</th>\n",
       "      <th>stays_in_weekend_nights</th>\n",
       "      <th>stays_in_week_nights</th>\n",
       "      <th>adults</th>\n",
       "      <th>children</th>\n",
       "      <th>babies</th>\n",
       "      <th>...</th>\n",
       "      <th>market_segment_Aviation</th>\n",
       "      <th>market_segment_Complementary</th>\n",
       "      <th>market_segment_Corporate</th>\n",
       "      <th>market_segment_Direct</th>\n",
       "      <th>market_segment_Groups</th>\n",
       "      <th>market_segment_Offline TA/TO</th>\n",
       "      <th>market_segment_Online TA</th>\n",
       "      <th>deposit_type_No Deposit</th>\n",
       "      <th>deposit_type_Non Refund</th>\n",
       "      <th>deposit_type_Refundable</th>\n",
       "    </tr>\n",
       "  </thead>\n",
       "  <tbody>\n",
       "    <tr>\n",
       "      <th>0</th>\n",
       "      <td>3</td>\n",
       "      <td>2016</td>\n",
       "      <td>3</td>\n",
       "      <td>7</td>\n",
       "      <td>12</td>\n",
       "      <td>0</td>\n",
       "      <td>2</td>\n",
       "      <td>2</td>\n",
       "      <td>0.0</td>\n",
       "      <td>0</td>\n",
       "      <td>...</td>\n",
       "      <td>0</td>\n",
       "      <td>0</td>\n",
       "      <td>0</td>\n",
       "      <td>1</td>\n",
       "      <td>0</td>\n",
       "      <td>0</td>\n",
       "      <td>0</td>\n",
       "      <td>1</td>\n",
       "      <td>0</td>\n",
       "      <td>0</td>\n",
       "    </tr>\n",
       "    <tr>\n",
       "      <th>1</th>\n",
       "      <td>50</td>\n",
       "      <td>2016</td>\n",
       "      <td>9</td>\n",
       "      <td>47</td>\n",
       "      <td>18</td>\n",
       "      <td>1</td>\n",
       "      <td>2</td>\n",
       "      <td>2</td>\n",
       "      <td>0.0</td>\n",
       "      <td>0</td>\n",
       "      <td>...</td>\n",
       "      <td>0</td>\n",
       "      <td>0</td>\n",
       "      <td>0</td>\n",
       "      <td>0</td>\n",
       "      <td>0</td>\n",
       "      <td>0</td>\n",
       "      <td>1</td>\n",
       "      <td>1</td>\n",
       "      <td>0</td>\n",
       "      <td>0</td>\n",
       "    </tr>\n",
       "    <tr>\n",
       "      <th>2</th>\n",
       "      <td>14</td>\n",
       "      <td>2015</td>\n",
       "      <td>11</td>\n",
       "      <td>37</td>\n",
       "      <td>7</td>\n",
       "      <td>1</td>\n",
       "      <td>5</td>\n",
       "      <td>2</td>\n",
       "      <td>2.0</td>\n",
       "      <td>0</td>\n",
       "      <td>...</td>\n",
       "      <td>0</td>\n",
       "      <td>0</td>\n",
       "      <td>0</td>\n",
       "      <td>0</td>\n",
       "      <td>0</td>\n",
       "      <td>0</td>\n",
       "      <td>1</td>\n",
       "      <td>1</td>\n",
       "      <td>0</td>\n",
       "      <td>0</td>\n",
       "    </tr>\n",
       "    <tr>\n",
       "      <th>3</th>\n",
       "      <td>18</td>\n",
       "      <td>2015</td>\n",
       "      <td>2</td>\n",
       "      <td>50</td>\n",
       "      <td>6</td>\n",
       "      <td>2</td>\n",
       "      <td>0</td>\n",
       "      <td>2</td>\n",
       "      <td>0.0</td>\n",
       "      <td>0</td>\n",
       "      <td>...</td>\n",
       "      <td>0</td>\n",
       "      <td>0</td>\n",
       "      <td>0</td>\n",
       "      <td>0</td>\n",
       "      <td>0</td>\n",
       "      <td>0</td>\n",
       "      <td>1</td>\n",
       "      <td>1</td>\n",
       "      <td>0</td>\n",
       "      <td>0</td>\n",
       "    </tr>\n",
       "    <tr>\n",
       "      <th>4</th>\n",
       "      <td>263</td>\n",
       "      <td>2016</td>\n",
       "      <td>11</td>\n",
       "      <td>40</td>\n",
       "      <td>29</td>\n",
       "      <td>2</td>\n",
       "      <td>4</td>\n",
       "      <td>2</td>\n",
       "      <td>0.0</td>\n",
       "      <td>0</td>\n",
       "      <td>...</td>\n",
       "      <td>0</td>\n",
       "      <td>0</td>\n",
       "      <td>0</td>\n",
       "      <td>0</td>\n",
       "      <td>0</td>\n",
       "      <td>0</td>\n",
       "      <td>1</td>\n",
       "      <td>1</td>\n",
       "      <td>0</td>\n",
       "      <td>0</td>\n",
       "    </tr>\n",
       "  </tbody>\n",
       "</table>\n",
       "<p>5 rows × 33 columns</p>\n",
       "</div>"
      ],
      "text/plain": [
       "   lead_time  arrival_date_year  arrival_date_month  arrival_date_week_number  \\\n",
       "0          3               2016                   3                         7   \n",
       "1         50               2016                   9                        47   \n",
       "2         14               2015                  11                        37   \n",
       "3         18               2015                   2                        50   \n",
       "4        263               2016                  11                        40   \n",
       "\n",
       "   arrival_date_day_of_month  stays_in_weekend_nights  stays_in_week_nights  \\\n",
       "0                         12                        0                     2   \n",
       "1                         18                        1                     2   \n",
       "2                          7                        1                     5   \n",
       "3                          6                        2                     0   \n",
       "4                         29                        2                     4   \n",
       "\n",
       "   adults  children  babies  ...  market_segment_Aviation  \\\n",
       "0       2       0.0       0  ...                        0   \n",
       "1       2       0.0       0  ...                        0   \n",
       "2       2       2.0       0  ...                        0   \n",
       "3       2       0.0       0  ...                        0   \n",
       "4       2       0.0       0  ...                        0   \n",
       "\n",
       "   market_segment_Complementary  market_segment_Corporate  \\\n",
       "0                             0                         0   \n",
       "1                             0                         0   \n",
       "2                             0                         0   \n",
       "3                             0                         0   \n",
       "4                             0                         0   \n",
       "\n",
       "   market_segment_Direct  market_segment_Groups  market_segment_Offline TA/TO  \\\n",
       "0                      1                      0                             0   \n",
       "1                      0                      0                             0   \n",
       "2                      0                      0                             0   \n",
       "3                      0                      0                             0   \n",
       "4                      0                      0                             0   \n",
       "\n",
       "   market_segment_Online TA  deposit_type_No Deposit  deposit_type_Non Refund  \\\n",
       "0                         0                        1                        0   \n",
       "1                         1                        1                        0   \n",
       "2                         1                        1                        0   \n",
       "3                         1                        1                        0   \n",
       "4                         1                        1                        0   \n",
       "\n",
       "   deposit_type_Refundable  \n",
       "0                        0  \n",
       "1                        0  \n",
       "2                        0  \n",
       "3                        0  \n",
       "4                        0  \n",
       "\n",
       "[5 rows x 33 columns]"
      ]
     },
     "execution_count": 99,
     "metadata": {},
     "output_type": "execute_result"
    }
   ],
   "source": [
    "X_os.head()"
   ]
  },
  {
   "cell_type": "code",
   "execution_count": 100,
   "id": "2da9a4b8",
   "metadata": {},
   "outputs": [],
   "source": [
    "#from sklearn.preprocessing import MinMaxScaler, StandardScaler\n",
    "\n",
    "#X_os = pd.DataFrame(StandardScaler().fit_transform(X_os), columns = X_os.columns, index = X_os.index)"
   ]
  },
  {
   "cell_type": "code",
   "execution_count": 101,
   "id": "96892e84",
   "metadata": {},
   "outputs": [],
   "source": [
    "#X_os.head()"
   ]
  },
  {
   "cell_type": "code",
   "execution_count": 102,
   "id": "08a80397",
   "metadata": {},
   "outputs": [
    {
     "name": "stdout",
     "output_type": "stream",
     "text": [
      "(37624, 33) (25084, 33)\n"
     ]
    }
   ],
   "source": [
    "#данные сбалансированы и обработаны\n",
    "#переходим к созданию и обучению модели\n",
    "\n",
    "from sklearn.model_selection import train_test_split\n",
    "from sklearn.linear_model import LogisticRegression\n",
    "\n",
    "X_train, X_test, y_train, y_test = train_test_split(X_os, y_os, random_state = 123, test_size = 0.4) \n",
    "\n",
    "print(X_train.shape, X_test.shape)"
   ]
  },
  {
   "cell_type": "code",
   "execution_count": 103,
   "id": "83c6450a",
   "metadata": {},
   "outputs": [
    {
     "name": "stderr",
     "output_type": "stream",
     "text": [
      "C:\\Users\\user\\anaconda3\\lib\\site-packages\\sklearn\\utils\\validation.py:993: DataConversionWarning: A column-vector y was passed when a 1d array was expected. Please change the shape of y to (n_samples, ), for example using ravel().\n",
      "  y = column_or_1d(y, warn=True)\n",
      "C:\\Users\\user\\anaconda3\\lib\\site-packages\\sklearn\\linear_model\\_logistic.py:814: ConvergenceWarning: lbfgs failed to converge (status=1):\n",
      "STOP: TOTAL NO. of ITERATIONS REACHED LIMIT.\n",
      "\n",
      "Increase the number of iterations (max_iter) or scale the data as shown in:\n",
      "    https://scikit-learn.org/stable/modules/preprocessing.html\n",
      "Please also refer to the documentation for alternative solver options:\n",
      "    https://scikit-learn.org/stable/modules/linear_model.html#logistic-regression\n",
      "  n_iter_i = _check_optimize_result(\n"
     ]
    }
   ],
   "source": [
    "model = LogisticRegression()\n",
    "\n",
    "model.fit(X_train, y_train)\n",
    "\n",
    "pred = model.predict(X_test)"
   ]
  },
  {
   "cell_type": "code",
   "execution_count": 106,
   "id": "07f608b2",
   "metadata": {},
   "outputs": [
    {
     "name": "stdout",
     "output_type": "stream",
     "text": [
      "0.7261601020570881\n",
      "0.7341993504871347\n",
      "0.7056987353929887\n"
     ]
    }
   ],
   "source": [
    "#посмотрим на результаты по метрикам аккуратности, полноты и точности\n",
    "\n",
    "from sklearn.metrics import accuracy_score, recall_score, precision_score\n",
    "\n",
    "print(accuracy_score(pred, y_test))\n",
    "print(recall_score(pred, y_test))\n",
    "print(precision_score(pred, y_test))"
   ]
  },
  {
   "cell_type": "code",
   "execution_count": 107,
   "id": "213928a0",
   "metadata": {},
   "outputs": [],
   "source": [
    "y_pred_test = model.predict(test)\n",
    "\n",
    "y_pred_test = pd.DataFrame(data = y_pred_test, columns=['is_canceled'])\n",
    "\n",
    "y_pred_test = y_pred_test.reset_index()\n",
    "\n",
    "y_pred_test.to_csv('solution.csv', index = False)"
   ]
  },
  {
   "cell_type": "code",
   "execution_count": null,
   "id": "8527cb27",
   "metadata": {},
   "outputs": [],
   "source": []
  }
 ],
 "metadata": {
  "kernelspec": {
   "display_name": "Python 3 (ipykernel)",
   "language": "python",
   "name": "python3"
  },
  "language_info": {
   "codemirror_mode": {
    "name": "ipython",
    "version": 3
   },
   "file_extension": ".py",
   "mimetype": "text/x-python",
   "name": "python",
   "nbconvert_exporter": "python",
   "pygments_lexer": "ipython3",
   "version": "3.9.12"
  }
 },
 "nbformat": 4,
 "nbformat_minor": 5
}
